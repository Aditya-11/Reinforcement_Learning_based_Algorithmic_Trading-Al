{
  "nbformat": 4,
  "nbformat_minor": 0,
  "metadata": {
    "colab": {
      "name": "stock-project.ipynb",
      "provenance": [],
      "collapsed_sections": [],
      "toc_visible": true,
      "authorship_tag": "ABX9TyPAlxYGp5Hzs8+d4ENBOXoV",
      "include_colab_link": true
    },
    "kernelspec": {
      "name": "python3",
      "display_name": "Python 3"
    }
  },
  "cells": [
    {
      "cell_type": "markdown",
      "metadata": {
        "id": "view-in-github",
        "colab_type": "text"
      },
      "source": [
        "<a href=\"https://colab.research.google.com/github/Aditya-11/Reinforcement_Learning_based_Algorithmic_Trading-Al/blob/master/stock_project.ipynb\" target=\"_parent\"><img src=\"https://colab.research.google.com/assets/colab-badge.svg\" alt=\"Open In Colab\"/></a>"
      ]
    },
    {
      "cell_type": "code",
      "metadata": {
        "id": "LeJJiUcCeiMw",
        "colab_type": "code",
        "colab": {}
      },
      "source": [
        "# environment \n",
        "\n",
        "import gym\n",
        "from gym import spaces\n",
        "from gym.utils import seeding\n",
        "import numpy as np\n",
        "import itertools\n",
        "\n",
        "# Intelligent Stock Trading Agent\n",
        "# Agent : Deep Q network \n",
        "\n",
        "\n",
        "\"\"\"\n",
        "3 stock trading env \n",
        "\n",
        "(State_Space) ->  # of stock owned, current stock prices, cash in hand\n",
        "\n",
        "- array of length n_stock*2 + 1\n",
        "- price is discretized (to integer) to reduce state space\n",
        "- use close price for each stock\n",
        "- cash in hand is evaluated at each step based on action performed\n",
        "\n",
        "\n",
        "(Action_Space) -> sell (0)\n",
        "               -> hold (1)\n",
        "               -> and buy (2)\n",
        "\n",
        "when selling, sell all the shares\n",
        "when buying, buy as many as cash in hand allows\n",
        "if buying multiple stock, equally distribute cash in hand and then utilize the balance\n",
        "\"\"\"\n",
        "\n",
        "class Trade_env(gym.Env):\n",
        "  def __init__(self,train_data, init_invest):\n",
        "    self.stock_price_history = train_data\n",
        "    self.n_stock = self.stock_price_history.shape[0]\n",
        "    self.n_step = self.stock_price_history[0].shape\n",
        "    print(\"n_step\",self.n_step)\n",
        "    self.init_invest = init_invest\n",
        "    self.cur_step = None\n",
        "    self.stock_owned = None\n",
        "    self.stock_price = None\n",
        "    self.cash_in_hand = None\n",
        "\n",
        "    # action space\n",
        "    self.action_space = spaces.Discrete(3**self.n_stock)\n",
        "\n",
        "\n",
        "    # observation space: give estimates in order to sample and build scaler\n",
        "    sm1 = self.stock_price_history[0][:].max()\n",
        "    sm2 = self.stock_price_history[1][:].max()\n",
        "    sm3 = self.stock_price_history[2][:].max()\n",
        "\n",
        "    stock_max_price = [sm1,sm2,sm3]\n",
        "    \n",
        "    stock_range = [[0, init_invest * 2 // mx] for mx in stock_max_price]\n",
        "    price_range = [[0, mx] for mx in stock_max_price]\n",
        "    cash_in_hand_range = [[0, init_invest * 2]]\n",
        "    \n",
        "    stock_range = [[int(i) for i in stock_range[0]]]\n",
        "    price_range = [[int(i) for i in price_range[0]]]\n",
        "    cash_in_hand_range = [[int(i) for i in cash_in_hand_range[0]]]\n",
        "    self.observation_space = spaces.MultiDiscrete([18,118,2001])\n",
        "\n",
        "    self._seed()\n",
        "    self._reset()\n",
        "\n",
        "  def _seed(self, seed=None):\n",
        "    self.np_random, seed = seeding.np_random(seed)\n",
        "    return [seed]\n",
        "\n",
        "  def _reset(self):\n",
        "    self.cur_step = 0\n",
        "    self.stock_owned = [0] * self.n_stock\n",
        "    self.stock_price = [self.stock_price_history[i][self.cur_step] for i in range(3)]\n",
        "    self.cash_in_hand = self.init_invest\n",
        "    return self._get_obs()\n",
        "\n",
        "  def _step(self, action):\n",
        "    assert self.action_space.contains(action)\n",
        "    prev_val = self._get_val()\n",
        "    self.cur_step += 1\n",
        "    self.stock_price = [self.stock_price_history[i][self.cur_step-1] for i in range(3)]\n",
        "    self._trade(action)\n",
        "    cur_val = self._get_val()\n",
        "    reward = cur_val - prev_val\n",
        "    if (self.cur_step == self.n_step[0]-2):\n",
        "      done = True\n",
        "    else :\n",
        "      done = False\n",
        "    info = {'cur_val': cur_val}\n",
        "    return self._get_obs(), reward, done, info\n",
        "\n",
        "  def _get_obs(self):\n",
        "    obs = []\n",
        "    obs.extend(self.stock_owned)\n",
        "    obs.extend(list(self.stock_price))\n",
        "    obs.append(self.cash_in_hand)\n",
        "    return obs\n",
        "\n",
        "  def  _get_val(self):\n",
        "    return np.sum(np.array(self.stock_owned) * np.array(self.stock_price)) + self.cash_in_hand\n",
        "\n",
        "  def _trade(self, action):\n",
        "    # all combo to sell(0), hold(1), or buy(2) stocks\n",
        "    action_combo = list(map(list, itertools.product([0, 1, 2], repeat=self.n_stock)))\n",
        "    action_vec = action_combo[action]\n",
        "\n",
        "    # one pass to get sell/buy index\n",
        "    sell_index = []\n",
        "    buy_index = []\n",
        "    for i, a in enumerate(action_vec):\n",
        "      if a == 0:\n",
        "        sell_index.append(i)\n",
        "      elif a == 2:\n",
        "        buy_index.append(i)\n",
        "    \n",
        "        # two passes: sell first, then buy; might be naive in real-world settings\n",
        "    if sell_index:\n",
        "      for i in sell_index:\n",
        "        self.cash_in_hand += self.stock_price[i] * self.stock_owned[i]\n",
        "        self.stock_owned[i] = 0\n",
        "\n",
        "    if buy_index:\n",
        "      can_buy = True\n",
        "      while can_buy:\n",
        "        for i in buy_index:\n",
        "          if self.cash_in_hand > self.stock_price[i]:\n",
        "            self.stock_owned[i] += 1 # buy one share\n",
        "            self.cash_in_hand -= self.stock_price[i]\n",
        "          else:\n",
        "            can_buy = False"
      ],
      "execution_count": null,
      "outputs": []
    },
    {
      "cell_type": "code",
      "metadata": {
        "id": "xJTZo775YIXW",
        "colab_type": "code",
        "colab": {
          "base_uri": "https://localhost:8080/",
          "height": 655
        },
        "outputId": "eae1328e-6d1b-432d-d6fd-1d573b52af67"
      },
      "source": [
        "!pip install tensorflow"
      ],
      "execution_count": null,
      "outputs": [
        {
          "output_type": "stream",
          "text": [
            "Requirement already satisfied: tensorflow in /usr/local/lib/python3.6/dist-packages (2.2.0rc2)\n",
            "Requirement already satisfied: tensorflow-estimator<2.3.0,>=2.2.0rc0 in /usr/local/lib/python3.6/dist-packages (from tensorflow) (2.2.0rc0)\n",
            "Requirement already satisfied: grpcio>=1.8.6 in /usr/local/lib/python3.6/dist-packages (from tensorflow) (1.27.2)\n",
            "Requirement already satisfied: absl-py>=0.7.0 in /usr/local/lib/python3.6/dist-packages (from tensorflow) (0.9.0)\n",
            "Requirement already satisfied: six>=1.12.0 in /usr/local/lib/python3.6/dist-packages (from tensorflow) (1.12.0)\n",
            "Requirement already satisfied: scipy==1.4.1; python_version >= \"3\" in /usr/local/lib/python3.6/dist-packages (from tensorflow) (1.4.1)\n",
            "Requirement already satisfied: h5py<2.11.0,>=2.10.0 in /usr/local/lib/python3.6/dist-packages (from tensorflow) (2.10.0)\n",
            "Requirement already satisfied: google-pasta>=0.1.8 in /usr/local/lib/python3.6/dist-packages (from tensorflow) (0.2.0)\n",
            "Requirement already satisfied: keras-preprocessing>=1.1.0 in /usr/local/lib/python3.6/dist-packages (from tensorflow) (1.1.0)\n",
            "Requirement already satisfied: tensorboard<2.3.0,>=2.2.0 in /usr/local/lib/python3.6/dist-packages (from tensorflow) (2.2.0)\n",
            "Requirement already satisfied: astunparse==1.6.3 in /usr/local/lib/python3.6/dist-packages (from tensorflow) (1.6.3)\n",
            "Requirement already satisfied: numpy<2.0,>=1.16.0 in /usr/local/lib/python3.6/dist-packages (from tensorflow) (1.18.2)\n",
            "Requirement already satisfied: gast==0.3.3 in /usr/local/lib/python3.6/dist-packages (from tensorflow) (0.3.3)\n",
            "Requirement already satisfied: termcolor>=1.1.0 in /usr/local/lib/python3.6/dist-packages (from tensorflow) (1.1.0)\n",
            "Requirement already satisfied: opt-einsum>=2.3.2 in /usr/local/lib/python3.6/dist-packages (from tensorflow) (3.2.0)\n",
            "Requirement already satisfied: protobuf>=3.8.0 in /usr/local/lib/python3.6/dist-packages (from tensorflow) (3.10.0)\n",
            "Requirement already satisfied: wheel>=0.26; python_version >= \"3\" in /usr/local/lib/python3.6/dist-packages (from tensorflow) (0.34.2)\n",
            "Requirement already satisfied: wrapt>=1.11.1 in /usr/local/lib/python3.6/dist-packages (from tensorflow) (1.12.1)\n",
            "Requirement already satisfied: tensorboard-plugin-wit>=1.6.0 in /usr/local/lib/python3.6/dist-packages (from tensorboard<2.3.0,>=2.2.0->tensorflow) (1.6.0.post2)\n",
            "Requirement already satisfied: werkzeug>=0.11.15 in /usr/local/lib/python3.6/dist-packages (from tensorboard<2.3.0,>=2.2.0->tensorflow) (1.0.1)\n",
            "Requirement already satisfied: setuptools>=41.0.0 in /usr/local/lib/python3.6/dist-packages (from tensorboard<2.3.0,>=2.2.0->tensorflow) (46.1.3)\n",
            "Requirement already satisfied: markdown>=2.6.8 in /usr/local/lib/python3.6/dist-packages (from tensorboard<2.3.0,>=2.2.0->tensorflow) (3.2.1)\n",
            "Requirement already satisfied: google-auth<2,>=1.6.3 in /usr/local/lib/python3.6/dist-packages (from tensorboard<2.3.0,>=2.2.0->tensorflow) (1.7.2)\n",
            "Requirement already satisfied: google-auth-oauthlib<0.5,>=0.4.1 in /usr/local/lib/python3.6/dist-packages (from tensorboard<2.3.0,>=2.2.0->tensorflow) (0.4.1)\n",
            "Requirement already satisfied: requests<3,>=2.21.0 in /usr/local/lib/python3.6/dist-packages (from tensorboard<2.3.0,>=2.2.0->tensorflow) (2.21.0)\n",
            "Requirement already satisfied: rsa<4.1,>=3.1.4 in /usr/local/lib/python3.6/dist-packages (from google-auth<2,>=1.6.3->tensorboard<2.3.0,>=2.2.0->tensorflow) (4.0)\n",
            "Requirement already satisfied: pyasn1-modules>=0.2.1 in /usr/local/lib/python3.6/dist-packages (from google-auth<2,>=1.6.3->tensorboard<2.3.0,>=2.2.0->tensorflow) (0.2.8)\n",
            "Requirement already satisfied: cachetools<3.2,>=2.0.0 in /usr/local/lib/python3.6/dist-packages (from google-auth<2,>=1.6.3->tensorboard<2.3.0,>=2.2.0->tensorflow) (3.1.1)\n",
            "Requirement already satisfied: requests-oauthlib>=0.7.0 in /usr/local/lib/python3.6/dist-packages (from google-auth-oauthlib<0.5,>=0.4.1->tensorboard<2.3.0,>=2.2.0->tensorflow) (1.3.0)\n",
            "Requirement already satisfied: urllib3<1.25,>=1.21.1 in /usr/local/lib/python3.6/dist-packages (from requests<3,>=2.21.0->tensorboard<2.3.0,>=2.2.0->tensorflow) (1.24.3)\n",
            "Requirement already satisfied: chardet<3.1.0,>=3.0.2 in /usr/local/lib/python3.6/dist-packages (from requests<3,>=2.21.0->tensorboard<2.3.0,>=2.2.0->tensorflow) (3.0.4)\n",
            "Requirement already satisfied: certifi>=2017.4.17 in /usr/local/lib/python3.6/dist-packages (from requests<3,>=2.21.0->tensorboard<2.3.0,>=2.2.0->tensorflow) (2019.11.28)\n",
            "Requirement already satisfied: idna<2.9,>=2.5 in /usr/local/lib/python3.6/dist-packages (from requests<3,>=2.21.0->tensorboard<2.3.0,>=2.2.0->tensorflow) (2.8)\n",
            "Requirement already satisfied: pyasn1>=0.1.3 in /usr/local/lib/python3.6/dist-packages (from rsa<4.1,>=3.1.4->google-auth<2,>=1.6.3->tensorboard<2.3.0,>=2.2.0->tensorflow) (0.4.8)\n",
            "Requirement already satisfied: oauthlib>=3.0.0 in /usr/local/lib/python3.6/dist-packages (from requests-oauthlib>=0.7.0->google-auth-oauthlib<0.5,>=0.4.1->tensorboard<2.3.0,>=2.2.0->tensorflow) (3.1.0)\n"
          ],
          "name": "stdout"
        }
      ]
    },
    {
      "cell_type": "code",
      "metadata": {
        "id": "-uQyJteCem0N",
        "colab_type": "code",
        "colab": {}
      },
      "source": [
        "import os\n",
        "import pandas as pd\n",
        "import numpy as np\n",
        "from sklearn.preprocessing import StandardScaler\n",
        "\n",
        "\n",
        "def get_data(col='close'):\n",
        "  msft = pd.read_csv('daily_MSFT.csv', usecols=[col])\n",
        "  ibm = pd.read_csv('daily_IBM.csv', usecols=[col])\n",
        "  qcom = pd.read_csv('daily_QCOM.csv', usecols=[col])\n",
        "\n",
        "\n",
        "  msft = msft.iloc[1:2000]\n",
        "  ibm = msft.iloc[1:2000]\n",
        "  qcom = qcom.iloc[1:2000]\n",
        "  return np.array([msft[col].values[::-1],\n",
        "                   ibm[col].values[::-1],\n",
        "                   qcom[col].values[::-1]])\n",
        "\n",
        "\n",
        "def get_scaler(env):\n",
        "  low = [0] * (env.n_stock * 2 + 1)\n",
        "\n",
        "  high = []\n",
        "  max_price = [env.stock_price_history[i][:].max() for i in range(3)]\n",
        "  min_price = [env.stock_price_history[i][:].min() for i in range(3)]\n",
        "\n",
        "  max_cash = env.init_invest * 3 \n",
        "\n",
        "  max_stock_owned = [max_cash//min_price[i] for i in range(3)]\n",
        "\n",
        "  for i in max_stock_owned:\n",
        "    high.append(i)\n",
        "  for i in max_price:\n",
        "    high.append(i)\n",
        "  high.append(max_cash)\n",
        "\n",
        "  scaler = StandardScaler()\n",
        "  scaler.fit([low, high])\n",
        "  return scaler\n"
      ],
      "execution_count": null,
      "outputs": []
    },
    {
      "cell_type": "code",
      "metadata": {
        "id": "LD0Ig3wcmsOm",
        "colab_type": "code",
        "colab": {}
      },
      "source": [
        ""
      ],
      "execution_count": null,
      "outputs": []
    },
    {
      "cell_type": "code",
      "metadata": {
        "id": "uwkh_gGseotI",
        "colab_type": "code",
        "colab": {}
      },
      "source": [
        "import tensorflow as tf\n",
        "\n",
        "from tensorflow.keras import layers\n",
        "from tensorflow.keras.models import Sequential\n",
        "from tensorflow.keras.layers import Dense\n",
        "from tensorflow.keras.optimizers import Adam\n",
        "\n",
        "from collections import deque\n",
        "\n",
        "import numpy as np\n",
        "\n",
        "import random\n",
        "\n",
        "\n",
        "class Stock_Agent:\n",
        "  def __init__(self, state_size ,action_size , batch_size):\n",
        "    self.action = action_size\n",
        "    self.states = state_size\n",
        "    self.memory = deque(maxlen = 10000)\n",
        "    self.gamma = 0.95\n",
        "    self.epsilon = 1.0\n",
        "    self.epsilon_min = 0.01\n",
        "    self.epsilon_decay = 0.99995\n",
        "    self.batch_size = batch_size\n",
        "    self.model = self._model() \n",
        "    print(self.model.summary())\n",
        "    print(\"action size -> \" , action_size)\n",
        "\n",
        "  def _model(self):\n",
        "    model = Sequential()\n",
        "    model.add(Dense(units=32, input_shape=(1,),activation=\"relu\"))\n",
        "    model.add(Dense(units=32, activation=\"relu\"))\n",
        "    model.add(Dense(self.action, activation=\"linear\"))\n",
        "    model.compile(loss=\"mse\", optimizer=Adam(lr=0.0019))\n",
        "    return model\n",
        "\n",
        "  def model_load_weight(self):\n",
        "    checkpoint_path = 'dqtrader.h5'\n",
        "    self.model.load_weights(checkpoint_path)\n",
        "  \n",
        "  def remember(self,state,action,reward,next_state,done):\n",
        "    self.memory.append((state,action,reward,next_state,done))\n",
        "\n",
        "  def act(self, state):\n",
        "    if np.random.rand() <= self.epsilon:\n",
        "      return random.randrange(self.action)\n",
        "    \n",
        "    options = self.model.predict(state)\n",
        "    return np.argmax(options[0])\n",
        "  \n",
        "  def test_act(self,state):\n",
        "    options = self.model.predict(state)\n",
        "    return np.argmax(options[0]) \n",
        "  \n",
        "  def experience_replay(self):\n",
        "    if (len(self.memory) < self.batch_size):\n",
        "      return \n",
        "    else: \n",
        "      batch = random.sample(self.memory,self.batch_size)\n",
        "      \n",
        "      for state,action,reward,next_state,terminate in batch:\n",
        "        q_update = reward\n",
        "        if not terminate:\n",
        "          next_state = np.array([next_state]).T\n",
        "          q_update = reward + self.gamma * np.amax(self.model.predict(next_state)[0])\n",
        "          \n",
        "        q_values = self.model.predict(state)\n",
        "        q_values[0][action] = q_update\n",
        "        self.model.fit(state,q_values,verbose=0)\n",
        "      \n",
        "        if (self.epsilon > self.epsilon_min):\n",
        "            self.epsilon = self.epsilon * self.epsilon_decay"
      ],
      "execution_count": null,
      "outputs": []
    },
    {
      "cell_type": "code",
      "metadata": {
        "id": "1AYRqDnkxXxy",
        "colab_type": "code",
        "colab": {}
      },
      "source": [
        "# Train the agent\n",
        "import pickle\n",
        "import time\n",
        "import numpy as np\n",
        "import argparse\n",
        "import re\n",
        "\n",
        "no_episode = 50\n",
        "batch_size = 30\n",
        "timestamp = time.strftime('%Y%m%d%H%M')\n",
        "data = get_data()\n",
        "train_data = data\n",
        "print(train_data[0].shape)\n",
        "env = Trade_env(train_data,1000)\n",
        "state_size = 7\n",
        "action_size = env.action_space.n\n",
        "\n",
        "print(\"state -> \",state_size)\n",
        "print(\"action -> \",action_size)\n",
        "\n",
        "agent = Stock_Agent(state_size,action_size,batch_size)\n",
        "scaler = get_scaler(env)\n",
        "portfolio_value = []\n",
        "\n",
        "\n",
        "with tf.device('/gpu:0'):\n",
        "  for e in range(no_episode):\n",
        "    print(\"Episode no -> \", e)\n",
        "    state = env._reset()\n",
        "    state = scaler.transform([state])[0]\n",
        "    for time in range(env.n_step[0]):\n",
        "      action = agent.act(state)\n",
        "      next_state, reward, done, info = env._step(action)\n",
        "      next_state = scaler.transform([next_state])[0]\n",
        "\n",
        "      agent.remember(state, action, reward, next_state, done)\n",
        "      state = next_state\n",
        "      if done or env.cur_step == 4523:\n",
        "        print(\"episode: {}/{}, episode end value: {}\".format(e + 1, no_episode, info['cur_val']))\n",
        "        portfolio_value.append(info['cur_val']) \n",
        "        break\n",
        "      if len(agent.memory) > batch_size:\n",
        "        agent.experience_replay()\n"
      ],
      "execution_count": null,
      "outputs": []
    },
    {
      "cell_type": "code",
      "metadata": {
        "id": "zbqBkDrkyaI5",
        "colab_type": "code",
        "colab": {
          "base_uri": "https://localhost:8080/",
          "height": 55
        },
        "outputId": "7efec990-b95d-4e61-f722-b6a5b4d7e0a2"
      },
      "source": [
        "print(portfolio_value)"
      ],
      "execution_count": null,
      "outputs": [
        {
          "output_type": "stream",
          "text": [
            "[1743.0801000000044, 945.5701000000049, 2005.1329999999973, 1270.9854000000018, 2788.632299999988, 3451.5199999999704, 1334.2071999999996, 2405.980400000014, 2224.856400000014, 1770.2369000000062, 1747.3451999999743, 1843.2011999999945, 1753.8225000000243, 1866.1704000000072, 3624.9520000000143, 1983.7980000000007, 2052.0232999999985, 1066.2345000000007, 1227.8528999999987, 2110.037000000002, 1755.2739999999988, 1584.0900000000092, 2760.0670000000023, 1259.1324999999977, 3009.7410000000064, 4304.612200000009, 2015.9799999999996, 2721.753000000001, 3089.1525000000047, 3058.527499999982, 1150.0970000000016, 2764.650000000004, 2543.199599999999, 2740.317499999992, 1523.0596000000032, 2296.4341999999956, 1302.1314999999997, 1107.0628000000008, 3974.050999999995, 2450.0750000000007, 2418.8084000000003, 2571.544999999996, 3463.3791000000024, 1755.4900000000018, 2847.842, 2851.9900000000007, 3097.615800000001, 2658.4199999999946, 3025.2000000000003, 1646.8869999999984]\n"
          ],
          "name": "stdout"
        }
      ]
    },
    {
      "cell_type": "code",
      "metadata": {
        "id": "R8IP4fnhpFvl",
        "colab_type": "code",
        "colab": {}
      },
      "source": [
        "agent.model.save('dqtrader.h5')\n",
        "from google.colab import files\n",
        "files.download('dqtrader.h5')"
      ],
      "execution_count": null,
      "outputs": []
    },
    {
      "cell_type": "code",
      "metadata": {
        "id": "rcZnXQp9IoTp",
        "colab_type": "code",
        "colab": {
          "base_uri": "https://localhost:8080/",
          "height": 313
        },
        "outputId": "93b9c675-939d-46cb-d920-658a291035bb"
      },
      "source": [
        "import matplotlib.pyplot as plt\n",
        "x = [1743.0801000000044, 945.5701000000049, 2005.1329999999973, 1270.9854000000018, 2788.632299999988, 3451.5199999999704, 1334.2071999999996, 2405.980400000014, 2224.856400000014, 1770.2369000000062, 1747.3451999999743, 1843.2011999999945, 1753.8225000000243, 1866.1704000000072, 3624.9520000000143, 1983.7980000000007, 2052.0232999999985, 1066.2345000000007, 1227.8528999999987, 2110.037000000002, 1755.2739999999988, 1584.0900000000092, 2760.0670000000023, 1259.1324999999977, 3009.7410000000064, 4304.612200000009, 2015.9799999999996, 2721.753000000001, 3089.1525000000047, 3058.527499999982, 1150.0970000000016, 2764.650000000004, 2543.199599999999, 2740.317499999992, 1523.0596000000032, 2296.4341999999956, 1302.1314999999997, 1107.0628000000008, 3974.050999999995, 2450.0750000000007, 2418.8084000000003, 2571.544999999996, 3463.3791000000024, 1755.4900000000018, 2847.842, 2851.9900000000007, 3097.615800000001, 2658.4199999999946, 3025.2000000000003, 1646.8869999999984]\n",
        "plt.plot(range(50),x)\n",
        "plt.title(\"Training Porfolio value vs epsisodes\")\n",
        "plt.xlabel(\"episodes\")\n",
        "plt.ylabel(\"value\")"
      ],
      "execution_count": null,
      "outputs": [
        {
          "output_type": "execute_result",
          "data": {
            "text/plain": [
              "Text(0, 0.5, 'value')"
            ]
          },
          "metadata": {
            "tags": []
          },
          "execution_count": 1
        },
        {
          "output_type": "display_data",
          "data": {
            "image/png": "[encoded data removed]",
            "text/plain": [
              "<Figure size 432x288 with 1 Axes>"
            ]
          },
          "metadata": {
            "tags": []
          }
        }
      ]
    },
    {
      "cell_type": "code",
      "metadata": {
        "id": "4xSg8D4CdrTw",
        "colab_type": "code",
        "colab": {
          "base_uri": "https://localhost:8080/",
          "height": 599
        },
        "outputId": "ab44e4bc-9580-41bf-c573-2459dff3726b"
      },
      "source": [
        "#Testing the model on data\n",
        "\n",
        "# Test the model for next 1000 days\n",
        "Test_no = 1\n",
        "\n",
        "col = 'close'\n",
        "\n",
        "msft = pd.read_csv('daily_MSFT.csv', usecols=[col])\n",
        "ibm = pd.read_csv('daily_IBM.csv', usecols=[col])\n",
        "qcom = pd.read_csv('daily_QCOM.csv', usecols=[col])\n",
        "\n",
        "msft = msft.iloc[3500:4000]\n",
        "ibm = ibm.iloc[3500:4000]\n",
        "qcom = qcom.iloc[3500:4000]\n",
        "\n",
        "# recent price are at top; reverse it\n",
        "test_data = np.array([msft[col].values[::-1],\n",
        "                   ibm[col].values[::-1],\n",
        "                   qcom[col].values[::-1]])\n",
        "#print(test_data[1])\n",
        "\n",
        "env = Trade_env(test_data,1000)\n",
        "\n",
        "state_size = 7\n",
        "action_size = env.action_space.n\n",
        "batch_size = 30\n",
        "\n",
        "# load the weights of the model\n",
        "agent = Stock_Agent(state_size,action_size,batch_size)\n",
        "#print(agent.stock_price_history.shape)\n",
        "agent.model_load_weight()\n",
        "scaler = get_scaler(env)\n",
        "\n",
        "\n",
        "print(agent.model.summary())\n",
        "\n",
        "for e in range(Test_no):\n",
        "  print(\"Test_no no ->  \",e)\n",
        "  state = env._reset()\n",
        "  state = scaler.transform([state])[0]\n",
        "  portfolio_val = []\n",
        "  action_val = []\n",
        "  for time in range(env.n_step[0]):\n",
        "    action = agent.test_act(state)\n",
        "    action_val.append(action)\n",
        "    next_state, reward, done, info = env._step(action)\n",
        "    portfolio_val.append(info['cur_val'])\n",
        "    next_state = scaler.transform([next_state])[0]\n",
        "    state = next_state\n",
        "\n"
      ],
      "execution_count": null,
      "outputs": [
        {
          "output_type": "stream",
          "text": [
            "n_step (500,)\n",
            "Model: \"sequential\"\n",
            "_________________________________________________________________\n",
            "Layer (type)                 Output Shape              Param #   \n",
            "=================================================================\n",
            "dense (Dense)                (None, 32)                64        \n",
            "_________________________________________________________________\n",
            "dense_1 (Dense)              (None, 32)                1056      \n",
            "_________________________________________________________________\n",
            "dense_2 (Dense)              (None, 27)                891       \n",
            "=================================================================\n",
            "Total params: 2,011\n",
            "Trainable params: 2,011\n",
            "Non-trainable params: 0\n",
            "_________________________________________________________________\n",
            "None\n",
            "action size ->  27\n",
            "Model: \"sequential\"\n",
            "_________________________________________________________________\n",
            "Layer (type)                 Output Shape              Param #   \n",
            "=================================================================\n",
            "dense (Dense)                (None, 32)                64        \n",
            "_________________________________________________________________\n",
            "dense_1 (Dense)              (None, 32)                1056      \n",
            "_________________________________________________________________\n",
            "dense_2 (Dense)              (None, 27)                891       \n",
            "=================================================================\n",
            "Total params: 2,011\n",
            "Trainable params: 2,011\n",
            "Non-trainable params: 0\n",
            "_________________________________________________________________\n",
            "None\n",
            "Test_no no ->   0\n"
          ],
          "name": "stdout"
        }
      ]
    },
    {
      "cell_type": "code",
      "metadata": {
        "id": "xkMN3KkpOnmF",
        "colab_type": "code",
        "colab": {}
      },
      "source": [
        ""
      ],
      "execution_count": null,
      "outputs": []
    },
    {
      "cell_type": "code",
      "metadata": {
        "id": "l1si1HTIahsp",
        "colab_type": "code",
        "colab": {
          "base_uri": "https://localhost:8080/",
          "height": 55
        },
        "outputId": "3b5844da-20f0-42ea-bcf6-4dfce10ce131"
      },
      "source": [
        "print(portfolio_val)"
      ],
      "execution_count": null,
      "outputs": [
        {
          "output_type": "stream",
          "text": [
            "[1000.0000000000002, 1007.6800000000003, 991.8400000000003, 1018.7200000000003, 1016.4800000000002, 993.2800000000002, 972.4800000000002, 988.0000000000002, 958.4000000000002, 957.4400000000003, 974.8800000000002, 966.4000000000002, 963.8400000000003, 963.0400000000003, 1011.5200000000002, 1042.4000000000003, 1038.8800000000003, 1047.6800000000003, 1033.1200000000003, 1052.8000000000004, 1059.0400000000004, 1030.2400000000002, 1023.2000000000003, 1009.1200000000002, 1029.4400000000003, 1023.8400000000003, 1025.2800000000002, 991.2000000000003, 1011.3600000000002, 996.8000000000003, 977.2800000000002, 974.8800000000002, 980.6400000000002, 994.5600000000003, 995.6800000000003, 946.0800000000003, 930.8800000000002, 932.8000000000003, 923.5200000000002, 945.1200000000002, 907.5200000000002, 930.4000000000002, 906.2400000000002, 924.4800000000002, 920.6400000000002, 954.5600000000003, 935.6800000000003, 931.5200000000002, 944.8000000000003, 919.0400000000003, 893.4400000000003, 877.9200000000003, 889.2800000000002, 853.6000000000003, 865.4400000000003, 865.7600000000002, 873.6000000000003, 848.9600000000003, 822.5600000000003, 807.5200000000002, 821.1200000000002, 909.1200000000002, 863.5200000000002, 830.4000000000002, 872.6400000000002, 907.6800000000003, 905.6000000000003, 921.4400000000003, 926.0800000000003, 893.7600000000002, 864.6400000000002, 888.6400000000002, 906.7200000000003, 881.7600000000002, 866.7200000000003, 862.4000000000002, 871.8400000000003, 844.1600000000002, 820.3200000000003, 829.2800000000002, 856.1600000000002, 860.0000000000002, 861.2800000000002, 874.7200000000003, 870.7200000000003, 918.2400000000002, 897.1200000000002, 913.6000000000003, 920.4800000000002, 925.4400000000003, 899.3600000000002, 895.2000000000003, 866.0800000000003, 896.1600000000002, 876.8000000000003, 895.6800000000003, 908.3200000000003, 904.8000000000003, 872.1600000000002, 852.6400000000002, 859.0400000000003, 907.2000000000003, 876.3200000000003, 880.9600000000003, 865.4400000000003, 876.1600000000002, 859.3600000000002, 858.4000000000002, 849.6000000000003, 861.6000000000003, 847.3600000000002, 822.5600000000003, 789.7600000000002, 717.7600000000002, 769.2800000000002, 714.8800000000002, 755.2000000000003, 801.6000000000003, 799.2000000000003, 797.2800000000002, 761.6000000000003, 740.1600000000002, 733.4400000000003, 760.3200000000003, 783.0400000000003, 812.1600000000002, 799.5200000000002, 805.1200000000002, 782.5600000000003, 824.9600000000003, 825.9200000000003, 829.6000000000003, 861.6000000000003, 846.2400000000002, 866.0800000000003, 881.2800000000002, 865.1200000000002, 863.2000000000003, 843.0400000000003, 819.6800000000003, 838.8800000000002, 814.8800000000002, 781.9200000000003, 800.9600000000003, 764.1600000000002, 794.7200000000003, 808.8000000000003, 826.2400000000002, 806.8800000000002, 784.0000000000002, 796.1600000000002, 794.0800000000003, 786.2400000000002, 793.6000000000003, 784.8000000000003, 788.9600000000003, 753.2800000000002, 759.8400000000003, 773.7600000000002, 768.8000000000003, 753.6000000000003, 729.4400000000003, 769.2800000000002, 759.3600000000002, 746.4000000000002, 729.9200000000003, 734.4000000000002, 749.4400000000003, 733.4400000000003, 771.6800000000003, 811.5200000000002, 818.2400000000002, 866.2400000000002, 836.1600000000002, 841.9200000000003, 880.0000000000002, 869.7600000000002, 856.3200000000003, 880.8000000000003, 849.2800000000002, 872.4800000000002, 860.8000000000003, 862.7200000000003, 879.3600000000002, 885.1200000000002, 877.6000000000003, 927.2000000000003, 936.4800000000002, 942.0800000000003, 925.7600000000002, 911.2000000000003, 891.3600000000002, 901.7600000000002, 915.3600000000002, 941.4400000000003, 936.6400000000002, 923.2000000000003, 907.3600000000002, 935.5200000000002, 955.0400000000003, 961.1200000000002, 961.2800000000002, 940.0000000000002, 958.8800000000002, 952.4800000000002, 952.6400000000002, 936.9600000000003, 934.2400000000002, 915.0400000000003, 917.1200000000002, 886.0800000000003, 893.7600000000002, 904.1600000000002, 896.3200000000003, 869.6000000000003, 901.2800000000002, 899.3600000000002, 886.0800000000003, 879.3600000000002, 878.2400000000002, 893.6000000000003, 890.7200000000003, 883.8400000000003, 877.1200000000002, 873.6000000000003, 856.8000000000003, 889.1200000000002, 890.2400000000002, 905.9200000000003, 922.4000000000002, 897.4400000000003, 922.5600000000003, 924.3200000000003, 931.8400000000003, 941.1200000000002, 929.9200000000003, 915.2000000000003, 852.9600000000003, 850.8800000000002, 845.6000000000003, 866.0800000000003, 827.2000000000003, 816.3200000000003, 810.7200000000003, 828.1600000000002, 801.4400000000003, 788.9600000000003, 806.5600000000003, 786.7200000000003, 780.9600000000003, 788.3200000000003, 774.8800000000002, 787.6800000000003, 772.6400000000002, 772.6400000000002, 781.4400000000003, 802.4000000000002, 428.96000000000026, 421.65000000000026, 415.02000000000027, 423.35000000000025, 413.83000000000027, 415.8700000000003, 406.0100000000003, 405.5000000000002, 407.54000000000025, 404.8200000000003, 396.83000000000027, 403.1200000000003, 400.23000000000025, 405.16000000000025, 394.79000000000025, 392.2400000000003, 402.27000000000027, 424.0300000000003, 427.2600000000003, 445.4500000000003, 447.3200000000003, 452.08000000000027, 450.89000000000027, 456.33000000000027, 434.5700000000003, 437.97000000000025, 433.89000000000027, 430.3200000000003, 424.0300000000003, 416.21000000000026, 418.5900000000003, 441.8800000000003, 442.0500000000003, 431.17000000000024, 432.5300000000003, 439.5000000000002, 422.33000000000027, 422.67000000000024, 416.04000000000025, 425.5600000000003, 422.8400000000003, 428.2800000000003, 438.14000000000027, 433.21000000000026, 442.5600000000003, 441.8800000000003, 437.97000000000025, 433.3800000000003, 442.22000000000025, 443.2400000000003, 439.33000000000027, 441.8800000000003, 448.3400000000003, 444.2600000000003, 452.9300000000003, 446.47000000000025, 442.22000000000025, 452.7600000000003, 450.04000000000025, 446.47000000000025, 440.1800000000003, 443.0700000000003, 439.33000000000027, 425.5600000000003, 423.35000000000025, 413.15000000000026, 415.3600000000003, 416.3800000000003, 426.0700000000003, 419.6100000000003, 419.4400000000002, 423.0100000000003, 423.52000000000027, 427.60000000000025, 427.4300000000003, 414.17000000000024, 407.0300000000003, 408.39000000000027, 424.2000000000003, 427.60000000000025, 429.47000000000025, 423.6900000000002, 436.27000000000027, 445.96000000000026, 447.83000000000027, 447.83000000000027, 452.2500000000002, 442.90000000000026, 441.54000000000025, 434.0600000000003, 442.39000000000027, 440.35000000000025, 440.52000000000027, 449.1900000000002, 461.60000000000025, 455.14000000000027, 470.7800000000003, 475.54000000000025, 471.6300000000003, 462.1100000000003, 468.91000000000025, 470.4400000000002, 468.23000000000025, 472.48000000000025, 458.3700000000003, 461.77000000000027, 447.3200000000003, 453.10000000000025, 454.29000000000025, 446.64000000000027, 461.77000000000027, 457.0100000000003, 454.6300000000003, 450.5500000000003, 453.6100000000003, 449.5300000000003, 449.7000000000003, 440.8600000000003, 440.6900000000002, 441.71000000000026, 439.5000000000002, 440.0100000000003, 442.0500000000003, 439.8400000000003, 440.35000000000025, 438.8200000000003, 441.54000000000025, 457.1800000000003, 454.29000000000025, 450.72000000000025, 450.3800000000003, 455.14000000000027, 456.33000000000027, 453.7800000000003, 455.3100000000003, 455.48000000000025, 468.0600000000003, 485.7400000000003, 487.9500000000003, 487.10000000000025, 494.92000000000024, 486.9300000000003, 472.9900000000003, 477.92000000000024, 486.42000000000024, 486.7600000000003, 495.9400000000002, 489.14000000000027, 506.14000000000027, 513.9600000000003, 498.83000000000027, 507.8400000000003, 488.46000000000026, 484.72000000000025, 483.8700000000003, 494.7500000000002, 477.2400000000003, 489.48000000000025, 489.14000000000027, 499.0000000000002, 500.8700000000003, 500.02000000000027, 494.58000000000027, 496.6200000000003, 496.1100000000003, 493.90000000000026, 492.2000000000003, 498.83000000000027, 501.5500000000003, 496.4500000000003, 503.5900000000003, 503.5900000000003, 495.77000000000027, 496.1100000000003, 457.0100000000003, 462.1100000000003, 467.04000000000025, 459.22000000000025, 448.6800000000003, 449.02000000000027, 458.2000000000003, 447.83000000000027, 448.3400000000003, 450.5500000000003, 448.3400000000003, 446.64000000000027, 443.2400000000003, 446.3000000000003, 441.3700000000003, 438.14000000000027, 432.1900000000002, 432.1900000000002, 435.5900000000003, 431.3400000000003, 431.5100000000003, 442.0500000000003, 436.4400000000002, 437.29000000000025, 441.71000000000026, 443.92000000000024, 440.8600000000003, 441.0300000000003, 450.04000000000025, 446.3000000000003, 450.72000000000025, 453.10000000000025, 456.67000000000024, 457.0100000000003, 457.6900000000002, 459.22000000000025, 464.66000000000025, 464.3200000000003, 470.4400000000002, 469.7600000000003, 466.7000000000003, 466.1900000000002, 464.3200000000003, 467.21000000000026, 471.46000000000026, 472.48000000000025, 469.9300000000003, 471.29000000000025, 483.02000000000027, 484.72000000000025, 484.21000000000026, 483.3600000000003, 474.8600000000003, 473.33000000000027, 470.9500000000003, 475.54000000000025, 472.8200000000003, 477.41000000000025, 482.3400000000003, 485.7400000000003, 480.8100000000003, 488.8000000000003, 494.2400000000003, 484.89000000000027, 475.71000000000026, 479.1100000000003, 474.6900000000002, 470.4400000000002, 468.5700000000003]\n"
          ],
          "name": "stdout"
        }
      ]
    },
    {
      "cell_type": "code",
      "metadata": {
        "id": "5PkQ2qWDcCbK",
        "colab_type": "code",
        "colab": {
          "base_uri": "https://localhost:8080/",
          "height": 313
        },
        "outputId": "b3420183-1ba4-451a-b861-097f3b455518"
      },
      "source": [
        "# testing graph \n",
        "\n",
        "import matplotlib.pyplot as plt\n",
        "x = portfolio_val\n",
        "plt.plot(range(500),x)\n",
        "plt.title(\"Testing Results for 500 days are\")\n",
        "plt.xlabel(\"Day\")\n",
        "plt.ylabel(\"value\")\n"
      ],
      "execution_count": null,
      "outputs": [
        {
          "output_type": "execute_result",
          "data": {
            "text/plain": [
              "Text(0, 0.5, 'value')"
            ]
          },
          "metadata": {
            "tags": []
          },
          "execution_count": 8
        },
        {
          "output_type": "display_data",
          "data": {
            "image/png": "[encoded data removed]",
            "text/plain": [
              "<Figure size 432x288 with 1 Axes>"
            ]
          },
          "metadata": {
            "tags": [],
            "needs_background": "light"
          }
        }
      ]
    }
  ]
}